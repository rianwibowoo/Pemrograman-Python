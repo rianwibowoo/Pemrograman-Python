{
  "nbformat": 4,
  "nbformat_minor": 0,
  "metadata": {
    "colab": {
      "name": "Untitled6.ipynb",
      "provenance": [],
      "authorship_tag": "ABX9TyNWMawxEa16Ln8UfX9SinZC",
      "include_colab_link": true
    },
    "kernelspec": {
      "name": "python3",
      "display_name": "Python 3"
    }
  },
  "cells": [
    {
      "cell_type": "markdown",
      "metadata": {
        "id": "view-in-github",
        "colab_type": "text"
      },
      "source": [
        "<a href=\"https://colab.research.google.com/github/rianwibowoo/Pemrograman-Python/blob/main/Tugas12.ipynb\" target=\"_parent\"><img src=\"https://colab.research.google.com/assets/colab-badge.svg\" alt=\"Open In Colab\"/></a>"
      ]
    },
    {
      "cell_type": "markdown",
      "metadata": {
        "id": "1amN4LprqO9c"
      },
      "source": [
        "Rian Wibowo\r\n",
        "\r\n",
        "1101184153\r\n",
        " \r\n",
        "TT-43-G10 \r\n",
        "\r\n",
        "\r\n",
        "\r\n"
      ]
    },
    {
      "cell_type": "code",
      "metadata": {
        "id": "rq6WMMnIqzjF"
      },
      "source": [
        "import numpy as np"
      ],
      "execution_count": 1,
      "outputs": []
    },
    {
      "cell_type": "code",
      "metadata": {
        "colab": {
          "base_uri": "https://localhost:8080/"
        },
        "id": "Kowr80ZZrGjb",
        "outputId": "fb8984af-7148-40d9-d58f-c33653b51438"
      },
      "source": [
        "fc=int(input(\"Masukan Nilai fc (400000000 s/d 2000000000) = \"))\r\n",
        "hT=int(input(\"Masukan Nilai hT (30 s/d 200 meter) = \"))\r\n",
        "hR=int(input(\"Masukan Nilai hR (1 s/d 30 meter) = \"))\r\n",
        "d=int(input(\"Masukan Nilai jarak pengirim dan penerima dalam (km) = \"))\r\n",
        "area=input(\"Pilih tipe area (Urban, Suburban, Open) = \")"
      ],
      "execution_count": 2,
      "outputs": [
        {
          "output_type": "stream",
          "text": [
            "Masukan Nilai fc (400000000 s/d 2000000000) = 2000000000\n",
            "Masukan Nilai hT (30 s/d 200 meter) = 50\n",
            "Masukan Nilai hR (1 s/d 30 meter) = 20\n",
            "Masukan Nilai jarak pengirim dan penerima dalam (km) = 10\n",
            "Pilih tipe area (Urban, Suburban, Open) = Urban\n"
          ],
          "name": "stdout"
        }
      ]
    },
    {
      "cell_type": "code",
      "metadata": {
        "id": "1FkhuguZsEMI"
      },
      "source": [
        "NtL = lambda x: 10*np.log10(x)"
      ],
      "execution_count": 3,
      "outputs": []
    },
    {
      "cell_type": "code",
      "metadata": {
        "colab": {
          "base_uri": "https://localhost:8080/"
        },
        "id": "wvvrZ0XZsHZd",
        "outputId": "8cd8b14e-52b8-42d7-a70d-1fc0cf3ea817"
      },
      "source": [
        "def nilaiFC(fc):\r\n",
        "  if fc<1500000000 and fc>=400000000:\r\n",
        "    C1,C2 = 69.55, 26.16\r\n",
        "  if fc<=2000000000 and fc>= 1500000000:\r\n",
        "    C1,C2 = 46.3, 33.9\r\n",
        "  return C1,C2\r\n",
        "nilaiFC(fc)"
      ],
      "execution_count": 4,
      "outputs": [
        {
          "output_type": "execute_result",
          "data": {
            "text/plain": [
              "(46.3, 33.9)"
            ]
          },
          "metadata": {
            "tags": []
          },
          "execution_count": 4
        }
      ]
    },
    {
      "cell_type": "code",
      "metadata": {
        "colab": {
          "base_uri": "https://localhost:8080/"
        },
        "id": "RXHPhnoXsKlY",
        "outputId": "73a233cf-820b-4356-c1fc-560680fc423b"
      },
      "source": [
        "def ahR(fc,hR):\r\n",
        "  a_hR=(1.1*np.log10(fc)-0.7)*hR-(1.56*np.log10(fc)-0.8)\r\n",
        "  return a_hR\r\n",
        "ahR(fc,hR)"
      ],
      "execution_count": 5,
      "outputs": [
        {
          "output_type": "execute_result",
          "data": {
            "text/plain": [
              "176.9130531113718"
            ]
          },
          "metadata": {
            "tags": []
          },
          "execution_count": 5
        }
      ]
    },
    {
      "cell_type": "code",
      "metadata": {
        "colab": {
          "base_uri": "https://localhost:8080/"
        },
        "id": "wU9HsB36sO3u",
        "outputId": "35c32e57-6125-4358-ff18-a0fbf458d9b4"
      },
      "source": [
        "def CM(fc,area):\r\n",
        "  if area=='Urban':\r\n",
        "    Cm = 0\r\n",
        "  if area=='Suburban':\r\n",
        "    Cm = -2*((np.log10(fc/28))**2) - 5.4\r\n",
        "  if area=='Open':\r\n",
        "    Cm = -4.78*((np.log10(fc))**2) + 18.33*np.log10(fc) - 40.94\r\n",
        "  return Cm\r\n",
        "CM(fc,area)"
      ],
      "execution_count": 6,
      "outputs": [
        {
          "output_type": "execute_result",
          "data": {
            "text/plain": [
              "0"
            ]
          },
          "metadata": {
            "tags": []
          },
          "execution_count": 6
        }
      ]
    },
    {
      "cell_type": "code",
      "metadata": {
        "colab": {
          "base_uri": "https://localhost:8080/"
        },
        "id": "jXB_6LWAs34H",
        "outputId": "3c5fea8b-8616-456e-8fa9-981e40b24f7d"
      },
      "source": [
        "def pathloss(fc,hT,d):\r\n",
        "  C1,C2 = nilaiFC(fc)\r\n",
        "  a_hR = ahR(fc,hR)\r\n",
        "  Cm = CM(fc,area)\r\n",
        "  Lp = C1+C2*(np.log10(fc)) - 13.83*(np.log10(hT)) - a_hR + (44.9-6.55*(np.log10(hT)))*(np.log10(d)) + Cm\r\n",
        "  return Lp\r\n",
        "pathloss(fc,hT,d)"
      ],
      "execution_count": 7,
      "outputs": [
        {
          "output_type": "execute_result",
          "data": {
            "text/plain": [
              "194.96685505326906"
            ]
          },
          "metadata": {
            "tags": []
          },
          "execution_count": 7
        }
      ]
    },
    {
      "cell_type": "code",
      "metadata": {
        "id": "Of3kAkFBs-Rj"
      },
      "source": [
        "#Lp = pathloss(fc,hT,d)\r\n",
        "#print(\"Pathloss = \",Lp,\"dB\")"
      ],
      "execution_count": 8,
      "outputs": []
    },
    {
      "cell_type": "code",
      "metadata": {
        "colab": {
          "base_uri": "https://localhost:8080/"
        },
        "id": "DLZlvjrSs_7C",
        "outputId": "ff072528-5e70-471e-af2f-f4e345a5ee12"
      },
      "source": [
        "#Ketika Path Loss di soal ternyata belum dalam dB\r\n",
        "Lp = pathloss(fc,hT,d)\r\n",
        "LpdB = NtL(Lp)\r\n",
        "print (\"Path Loss dalam dB = \", LpdB, \"dB\")\r\n",
        "print (\"Path Loss dalam Numerik = \", Lp)\r\n",
        "\r\n",
        "\r\n",
        "#Ketika Path Loss di soal ternyata sudah dalam dB\r\n",
        "Lp = pathloss(fc,hT,d)\r\n",
        "print(\"\\nPath Loss dalam dB = \", Lp, \"dB\")"
      ],
      "execution_count": 9,
      "outputs": [
        {
          "output_type": "stream",
          "text": [
            "Path Loss dalam dB =  22.899607862806356 dB\n",
            "Path Loss dalam Numerik =  194.96685505326906\n",
            "\n",
            "Path Loss dalam dB =  194.96685505326906 dB\n"
          ],
          "name": "stdout"
        }
      ]
    }
  ]
}